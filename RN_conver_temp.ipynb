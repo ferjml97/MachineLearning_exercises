{
  "nbformat": 4,
  "nbformat_minor": 0,
  "metadata": {
    "colab": {
      "name": "RN_conver-temp.ipynb",
      "provenance": [],
      "collapsed_sections": [],
      "authorship_tag": "ABX9TyMbuwXDXeMj7D51xezIqyV+",
      "include_colab_link": true
    },
    "kernelspec": {
      "name": "python3",
      "display_name": "Python 3"
    },
    "language_info": {
      "name": "python"
    }
  },
  "cells": [
    {
      "cell_type": "markdown",
      "metadata": {
        "id": "view-in-github",
        "colab_type": "text"
      },
      "source": [
        "<a href=\"https://colab.research.google.com/github/ferjml97/MachineLearning_exercises/blob/main/RN_conver_temp.ipynb\" target=\"_parent\"><img src=\"https://colab.research.google.com/assets/colab-badge.svg\" alt=\"Open In Colab\"/></a>"
      ]
    },
    {
      "cell_type": "markdown",
      "metadata": {
        "id": "k97BOVq7Ot7z"
      },
      "source": [
        "# **Convertidor de Temperatura**\n",
        "####**Red Neuronal para `convertir la temperatura` de grados Fahrenheit(F°) a grados Celsius(C°).**\n",
        "\n",
        "\n",
        "\n",
        "<ul>\n",
        "  <details>  \n",
        "      <summary><b>Índice</b></summary>\n",
        "      <ul><h3><b>Descripción</b></h3></ul>\n",
        "      <ul><h3><b>Análisis del Problema</b></h3></ul>\n",
        "        <ul><h3><b>Instalación de librerías</b></h3></ul>\n",
        "        <ul><h3><b>Entrada de Datos</b></h3></ul>\n",
        "        <ul><h3><b>Modelo de Red Neuronal</b></h3>\n",
        "          <ul><h4><b>Definir características del \n",
        "          Modelo de Red Neuronal</b></h4></ul>\n",
        "          <ul><h4><b>Entrenamiento del Modelo de Red Neuronal</b></h4></ul>\n",
        "          <ul><h4><b>Analisis del Modelo de Red Neuronal</b></h4>\n",
        "            <ul><h4>Gráfica de la función de pérdida</h4></ul>\n",
        "            <ul><h4>Ajustes automáticos</h4></ul>\n",
        "          </ul>\n",
        "        </ul>\n",
        "        <ul><h3><b>Resultados</b></h3></ul>\n",
        "        <ul><h3><b>Conclusión</b></h3></ul>\n",
        "        <ul><h3><b>Bibliografía</b></h3></ul>\n",
        "        </ul>\n",
        "  </br>\n",
        "  </details> \n",
        "</ul>\n",
        "\n",
        "\n"
      ]
    },
    {
      "cell_type": "markdown",
      "metadata": {
        "id": "s-VB5lzLrAGK"
      },
      "source": [
        "## **Descripción**\n",
        "\n",
        "<ul>\n",
        "  <details>  \n",
        "      <summary><b>¿Qué son los grados Celsius (°C)?</b></summary></br>\n",
        "Se llama grados Celsius a una unidad de medición de la temperatura erróneamente conocida como grados centígrados y representados mediante el símbolo °C. Esta unidad rinde homenaje a su creador, el físico y astrónomo sueco <b>Anders Celsius</b>, y es equivalente en intensidad calórica a la escala de los grados kelvin.\n",
        "  </br>\n",
        "  </details> \n",
        "</ul>\n",
        "\n",
        "> 📔 </br> La escala de temperatura creada por **Anders Celsius** en **1742** era en realidad la inversa de la escala Celsius moderna. La *escala original de Celsius tenía agua hervida a 0 grados y se congela a 100 grados*. En **1743** **Jean-Pierre Christin** propuso independientemente a una *escala de temperatura con cero en el punto de congelación del agua y 100 fue el punto de ebullición*. **Carolus Linneo** *invirtió la escala original de Celsius* en **1744**, año en que murió Celsius.\n",
        "\n",
        "> 🧠 </br> La escala de los grados Celsius ubica su punto cero (0) en unos 0,01 grados por debajo del **punto triple del agua**: *ése en el que coexisten en equilibrio los tres estados de la materia*: **sólido, líquido y gaseoso**.\n",
        "\n",
        "<ul>\n",
        "  <details>  \n",
        "      <summary><b>¿Qué son los grados Farenheit (°F)?</b></summary></br>\n",
        "Representado con el símbolo °F, el grado Farenheit fue propuesto por el físico e ingeniero alemán <b>Daniel Gabriel Farenheit</b> en <b>1724</b>. \n",
        "  </br>\n",
        "  </details> \n",
        "</ul>\n",
        "\n",
        "> 📔 </br> En su escala, los puntos de congelación y ebullición del agua son, **32 °F** y **212 °F** respectivamente.\n",
        "\n",
        "\n",
        "> 💡 </br> La conversión de grados Celsius a grados Fahrenheit se realiza mediante la siguiente fórmula: </br>\n",
        "> <h3><center><b>Temperatura (°F) = 1.8 x Temperatura (°C) + 32</b></center></h3>\n",
        "\n"
      ]
    },
    {
      "cell_type": "markdown",
      "metadata": {
        "id": "xZBRwRp7n97D"
      },
      "source": [
        "## **Análisis del Problema**\n",
        "Base de información sobre el problema es la formula de conversión de Temperatura entre grados Farenhiet(F°) a grados Celsius(C°).\n",
        "\n",
        "<h3><center><b>Temperatura (°F) = 1.8 x Temperatura (°C) + 32</b></center></h3>\n",
        "\n",
        "Poniendo detalle a esta formula podemos decir que es una Función Lineal:\n",
        "<h3><center><b> y = mx + b</b></center></h3>"
      ]
    },
    {
      "cell_type": "markdown",
      "metadata": {
        "id": "u3bftIEzMPUM"
      },
      "source": [
        "## **Instalación de librerías**\n",
        "\n",
        "**tensorflow** - Librería enfocada a Inteligencia Artificial. *(Hecha por Google)*\n",
        "\n",
        "**numpy** - Librería de Python especializada en el cálculo numérico y el análisis de datos, especialmente para un gran volumen de datos."
      ]
    },
    {
      "cell_type": "code",
      "metadata": {
        "id": "dY4pVgxFJukr"
      },
      "source": [
        "import tensorflow as tf\n",
        "import numpy as np"
      ],
      "execution_count": null,
      "outputs": []
    },
    {
      "cell_type": "markdown",
      "metadata": {
        "id": "ZWJ0PrlwRaDl"
      },
      "source": [
        "## **Entrada de Datos**\n",
        "Por medio de dos arreglos registraremos la entrada de los grados de las temperaturas (*datos*), que usará el modelo para aprender.\n",
        "\n",
        "Primero, en F° » Farenheit (*entradas*).\n",
        "\n",
        "Después, en C° » Celsius (*resultados*)."
      ]
    },
    {
      "cell_type": "code",
      "metadata": {
        "id": "unOKo3CAJ4bR"
      },
      "source": [
        "fahrenheit = np.array([-40, 14, 32, 46, 59, 72, 100], dtype=float)\n",
        "celsius = np.array([-40, -10, 0, 8, 15, 22, 38], dtype=float)"
      ],
      "execution_count": null,
      "outputs": []
    },
    {
      "cell_type": "markdown",
      "metadata": {
        "id": "XUUQK7nC2fEj"
      },
      "source": [
        "## **Modelo de Red Neuronal**\n",
        "\n",
        "Diseño del modelo de Red Neuronal usando:\n",
        "\n",
        "**keras** - Framework diseñado para posibilitar la experimentación en más o menos poco tiempo con redes de Aprendizaje Profundo. (*código abierto*).\n",
        "\n",
        "*`Se pueden especificar las dos capas(entrada y salida) por separado o solo especificar la capa de salida.`*\n",
        "\n",
        "Pasos:\n",
        "1.   Se crea una capa **`Dense`** » *densamente conectada*. \n",
        "\n",
        "> 👀 </br>\n",
        "*Esta propiedad permite que las neuronas de la capa tengan conexiones con todas las neuronas de la siguiente capa*.\n",
        "\n",
        "> 👀 </br>`units=1` » *número de neuronas en la capa de salida.* </br>\n",
        " `input_shape=[1]` »   *número de neuronas en la capa de entrada.*  \n",
        "\n",
        "2.   Se asigna un modelo de red neuronal **`Sequential`** de **keras**.\n",
        "\n",
        "\n"
      ]
    },
    {
      "cell_type": "code",
      "metadata": {
        "id": "vqSd0MN4KXKL"
      },
      "source": [
        "capa = tf.keras.layers.Dense(units=1, input_shape=[1])    # Paso 1\n",
        "modelo = tf.keras.Sequential([capa])                      # Paso 2"
      ],
      "execution_count": null,
      "outputs": []
    },
    {
      "cell_type": "markdown",
      "metadata": {
        "id": "Dzb1XnaF9iDc"
      },
      "source": [
        "### **Definir caracteristicas del Modelo de Red Neuronal**\n",
        "\n",
        "Preparamos el modelo para ser entrenado. </br>\n",
        "Para ello, ajustamos la forma *(propiedades)* de procesar los datos, con el fin de obtener un mejor resultado *(mejor modelo)*.\n",
        "\n",
        "1.  **Optimizador**\n",
        "\n",
        "**`Adan`** » Algoritmo que le permite al Modelo de Red Neuronal de que manera ajustar los pesos y sesgos de manera eficiente para un mejor aprendizaje.\n",
        "> 👀 </br> \n",
        "`(0.1)` » *Tasa de aprendizaje* | (guía* para saber que tanto ajustar los pesos y sesgos)\n",
        "  <ul>\n",
        "  <details>  \n",
        "    </br>\n",
        "      <summary><b> + info</b></summary>\n",
        "    mientras <b><</b> sea la tasa, el algoritmo tardará más en apreder, pero si la tasa es <b>></b> , esta podría sobrepasar los valores <i>(pesos y sesgos)</i> y no hacer los ajustes tan finos para llegar a la mejor opción.\n",
        "  </br>\n",
        "  </ul>\n",
        "\n",
        "\n",
        "2.   **Función de perdida**\n",
        "\n",
        "**`mean_squared_error`** »  Calcula la media de cuadrados de errores entre etiquetas y predicciones. </br></br> \n",
        "\n",
        "<center><i><h4>\"Una cantidad de errores grandes es peor que una gran cantidad de errores pequeños\".</h4></i></center>"
      ]
    },
    {
      "cell_type": "code",
      "metadata": {
        "id": "jjXCZz0fLS16"
      },
      "source": [
        "modelo.compile(\n",
        "    optimizer = tf.keras.optimizers.Adam(0.1),\n",
        "    loss = 'mean_squared_error'\n",
        ")"
      ],
      "execution_count": null,
      "outputs": []
    },
    {
      "cell_type": "markdown",
      "metadata": {
        "id": "jFn0eMTQ9okG"
      },
      "source": [
        "### **Entrenamiento del Modelo de Red Neuronal**\n",
        "\n",
        "Etapa de entrenamiento del modelo:\n",
        "\n",
        "**`fit`** »  Función donde se especifican los datos de entrada y los esperados.\n",
        "> 👀 `epochs = 1000` » Número de vueltas de analisis de los datos </br>\n",
        "> 👀 `verbose = False` » Evitarinformación muy detallada"
      ]
    },
    {
      "cell_type": "code",
      "metadata": {
        "colab": {
          "base_uri": "https://localhost:8080/"
        },
        "id": "1JIDvYKuLirZ",
        "outputId": "a65a455e-4d95-40e3-baf1-916ac9dc65c1"
      },
      "source": [
        "print(\"Comenzando entrenamiento...\")\n",
        "historial = modelo.fit(fahrenheit,celsius, epochs=1000, verbose=False)\n",
        "print(\"modelo entrenado\")"
      ],
      "execution_count": null,
      "outputs": [
        {
          "output_type": "stream",
          "text": [
            "Comenzando entrenamiento...\n",
            "modelo entrenado\n"
          ],
          "name": "stdout"
        }
      ]
    },
    {
      "cell_type": "markdown",
      "metadata": {
        "id": "MCAtiysi9qkU"
      },
      "source": [
        "### **Análisis del Modelo de Red Neuronal**\n",
        "Análisis del funcionamiento del modelo de Red Neuronal mediante una gráfica y revisión de los pesos."
      ]
    },
    {
      "cell_type": "markdown",
      "metadata": {
        "id": "tnxx3M8hYKa-"
      },
      "source": [
        "#### Gráfica de la función de perdida\n",
        "\n",
        "> 🤓 **Conclusiones del análisis**</br> \n",
        " - La magnitud de pérdida del modelo se reduce a lo largo de las épocas, es decir, *el modelo aprende con cada vuelta*.\n",
        " - En ciertos rango de número de épocas o vueltas, la magnitud de pérdida no se reduce demasiado, por lo que, *el modelo aprende lentamente* **texto en negrita**.\n",
        "\n",
        "\n",
        "\n"
      ]
    },
    {
      "cell_type": "code",
      "metadata": {
        "colab": {
          "base_uri": "https://localhost:8080/",
          "height": 296
        },
        "id": "qbvoZmXXME3M",
        "outputId": "ff5a7657-b1d7-413a-c825-b50ced05a96f"
      },
      "source": [
        "import matplotlib.pyplot as plt\n",
        "plt.xlabel(\"N° Epocas\")\n",
        "plt.ylabel(\"Magnitud de pérdida\")\n",
        "plt.plot(historial.history[\"loss\"])"
      ],
      "execution_count": null,
      "outputs": [
        {
          "output_type": "execute_result",
          "data": {
            "text/plain": [
              "[<matplotlib.lines.Line2D at 0x7f3e22494550>]"
            ]
          },
          "metadata": {
            "tags": []
          },
          "execution_count": 14
        },
        {
          "output_type": "display_data",
          "data": {
            "image/png": "[encoded data removed]",
            "text/plain": [
              "<Figure size 432x288 with 1 Axes>"
            ]
          },
          "metadata": {
            "tags": [],
            "needs_background": "light"
          }
        }
      ]
    },
    {
      "cell_type": "markdown",
      "metadata": {
        "id": "KK3d1VmL9vQs"
      },
      "source": [
        "#### Ajustes automáticos\n",
        "\n",
        "Checaremos como quedaron los valores de los pesos de este Modelo de Red Neuronal."
      ]
    },
    {
      "cell_type": "code",
      "metadata": {
        "colab": {
          "base_uri": "https://localhost:8080/"
        },
        "id": "Xvb3imAVNrxY",
        "outputId": "e3a8687f-28ae-4b6d-f0d8-98fa6c076788"
      },
      "source": [
        "print(\"Variables internas del modelo\")\n",
        "print(capa.get_weights())"
      ],
      "execution_count": null,
      "outputs": [
        {
          "output_type": "stream",
          "text": [
            "Variables internas del modelo\n",
            "[array([[0.5561418]], dtype=float32), array([-17.768576], dtype=float32)]\n"
          ],
          "name": "stdout"
        }
      ]
    },
    {
      "cell_type": "markdown",
      "metadata": {
        "id": "cDXSSRMg9sxd"
      },
      "source": [
        "## **Resultado** 😊\n",
        "\n",
        "A llegado el momento de probar la Red Neuronal. </br>\n",
        "Para ello, vamos a insertar un valor de temperatura en grados Fahrenheit."
      ]
    },
    {
      "cell_type": "code",
      "metadata": {
        "colab": {
          "base_uri": "https://localhost:8080/"
        },
        "id": "8T233tQCNGBv",
        "outputId": "bd4eb94e-1b32-480a-ab48-77f2f5b138e0"
      },
      "source": [
        "print(\"Hagamos una predicción!\")\n",
        "print(\"Ingresa una temperatura en grados Fahrenhait\")\n",
        "temperatura = input()\n",
        "resultado = modelo.predict([float(temperatura)])\n",
        "print(\"El resultado es \" + str(resultado) + \" Celsius!\")\n"
      ],
      "execution_count": null,
      "outputs": [
        {
          "output_type": "stream",
          "text": [
            "Hagamos una predicción!\n",
            "Ingresa una temperatura en grados Fahrenhait\n",
            "100\n",
            "El resultado es [[37.845604]] Celsius!\n"
          ],
          "name": "stdout"
        }
      ]
    },
    {
      "cell_type": "markdown",
      "metadata": {
        "id": "igA_JEji9IeH"
      },
      "source": [
        "## **Conclusión**  😁\n",
        "\n",
        "Como se pudo apreciar en la sección **[Análisis del modelo de Red Neuronal](https://colab.research.google.com/drive/1mlyZFl0mAhgJ2Qq3kDrmHJ31dRT9QJwa#scrollTo=MCAtiysi9qkU \"Apartado del Colab\")**, el resultado no es perfecto, pero es bastante acertado. </br>\n",
        "Teniendo en cuenta todo lo visto y realizado, podremos seguir modificando el modelo para obtener mejores resultados, y así, el mejor resultado. 🎊\n",
        "\n",
        "A continuación, veremos como modificar el modelo empleado para intentar tener predicciones más acertadas. \n",
        "\n",
        "  🔽|\n",
        ":--------: | \n",
        "[SIGUIENTE CUADERNO](https://colab.research.google.com/drive/1QIoprNxOYttJ0cmfgtONjTHlhkK_3TIA#scrollTo=igA_JEji9IeH \"RN_conver-temp-2\") |\n",
        "|\n"
      ]
    },
    {
      "cell_type": "markdown",
      "metadata": {
        "id": "le8kxiFtu1eH"
      },
      "source": [
        "## **Bibliografía**\n",
        "\n",
        "  - [Temperaturas](https://concepto.de/grados-celsius-c/#ixzz71tBVG3R6 \"Temperaturas\")  \n",
        "  - [Grados Celsius](http://metrolab.com.bo/publicacion-de-documentos/grado-centigrado-o-grado-celsius/ \"Grados Celsius\")\n",
        "  - [Machine Learning](https://blogthinkbig.com/redes-neuronales-deep-learning \"Machine Learning\")\n",
        "  - [Keras Guide](https://keras.io/guides/ \"Keras Guide\")\n",
        "  - [TensorFlow](https://www.tensorflow.org/?hl=es-419 \"TensorFlow\")\n",
        "  - [Numpy](https://numpy.org/ \"Numpy\")\n",
        "  - [Matplotlib](https://matplotlib.org/ \"Matplotlib\")\n",
        "\n"
      ]
    }
  ]
}
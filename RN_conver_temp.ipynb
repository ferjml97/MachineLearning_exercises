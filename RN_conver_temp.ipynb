{
  "nbformat": 4,
  "nbformat_minor": 0,
  "metadata": {
    "colab": {
      "name": "RN_conver-temp.ipynb",
      "provenance": [],
      "authorship_tag": "ABX9TyOOETP9M4UN4a/0b1rFz6DA",
      "include_colab_link": true
    },
    "kernelspec": {
      "name": "python3",
      "display_name": "Python 3"
    },
    "language_info": {
      "name": "python"
    }
  },
  "cells": [
    {
      "cell_type": "markdown",
      "metadata": {
        "id": "view-in-github",
        "colab_type": "text"
      },
      "source": [
        "<a href=\"https://colab.research.google.com/github/ferjml97/MachineLearning_exercises/blob/main/RN_conver_temp.ipynb\" target=\"_parent\"><img src=\"https://colab.research.google.com/assets/colab-badge.svg\" alt=\"Open In Colab\"/></a>"
      ]
    },
    {
      "cell_type": "markdown",
      "metadata": {
        "id": "k97BOVq7Ot7z"
      },
      "source": [
        "# **Convertidor de Temperatura**\n",
        " Red Neuroral para que **`convierte la temperatura`** de grados Celsius(C°) a grados Fahrenheit(F°).\n",
        "## **Instalar librerías**\n",
        "\n",
        "**tensorflow** - Librería enfocada a Inteligencia Artificial. *(Hecha por Google)*\n",
        "\n",
        "**numpy** - Librería de Python especializada en el cálculo numérico y el análisis de datos, especialmente para un gran volumen de datos.\n"
      ]
    },
    {
      "cell_type": "code",
      "metadata": {
        "id": "dY4pVgxFJukr"
      },
      "source": [
        "import tensorflow as tf\n",
        "import numpy as np"
      ],
      "execution_count": 3,
      "outputs": []
    },
    {
      "cell_type": "markdown",
      "metadata": {
        "id": "ZWJ0PrlwRaDl"
      },
      "source": [
        "## **Entrada de Datos**\n",
        "Por medio de dos arreglos registraremos la entrada de los grados de las temperaturas(*datos*), que usará el modelo para aprender.\n",
        "\n",
        "Primero, en C° - celcius. (*entradas*)\n",
        "\n",
        "Después, en F° - farenheit (*resultados*)"
      ]
    },
    {
      "cell_type": "code",
      "metadata": {
        "id": "unOKo3CAJ4bR"
      },
      "source": [
        "celsius = np.array([-40, -10, 0, 8, 15, 22, 38], dtype=float)\n",
        "fahrenheit = np.array([-40, 14, 32, 46, 59, 72, 100], dtype=float)"
      ],
      "execution_count": 4,
      "outputs": []
    },
    {
      "cell_type": "markdown",
      "metadata": {
        "id": "XUUQK7nC2fEj"
      },
      "source": [
        "## **Modelo de Red Neuronal**\n",
        "\n",
        "Diseño del modelo de Red Neuronal usando:\n",
        "\n",
        "**keras** - Framework diseñado para posibilitar la experimentación en más o menos poco tiempo con redes de Aprendizaje Profundo. (*código abierto*).\n",
        "\n",
        "*`Se pueden especificar las dos capas(entrada y salida) por separado o solo especificar la capa de salida.`*\n",
        "\n",
        "Pasos:\n",
        "1.   Se crea una capa `Dense` --> *(densamente conectada)*. Esta propiedad permite que las neuronas de la capa tengan conexiones con todas las neuronas de la siguiente capa.\n",
        "\n",
        "\n",
        "> units=1 --> número de neuronas en la capa\n",
        "> input_shape=[1] -->   \n",
        "\n",
        "2.   Se asigna un modelo de red neuronal `Sequential` de **keras**.\n",
        "\n"
      ]
    },
    {
      "cell_type": "code",
      "metadata": {
        "id": "vqSd0MN4KXKL"
      },
      "source": [
        "capa = tf.keras.layers.Dense(units=1, input_shape=[1])    # Paso 1\n",
        "modelo = tf.keras.Sequential([capa])                      # Paso 2"
      ],
      "execution_count": 5,
      "outputs": []
    },
    {
      "cell_type": "markdown",
      "metadata": {
        "id": "Dzb1XnaF9iDc"
      },
      "source": [
        "### **Definir caracteristicas del Modelo de Red Neuronal**\n",
        "\n",
        "Preparamos el modelo para ser entrenado.\n",
        "Para ello ajustamos la forma(propiedades) de procesar los datos con el fin de obtener un mejor modelo.\n",
        "\n",
        "1.   Optimizador\n",
        "\n",
        "`Adan` --> Algoritmo que le permite al Modelo de Red Neuronal como ajustar los pesos y sesgos de manera eficiente para un mejor aprendizaje.\n",
        "> **(0.1)** = Tasa de aprendizaje \n",
        "*(guia para saber que tanto ajustar los pesos y sesgos)*\n",
        "mientras < sea la tasa, el algoritmo tardará más en apreder pero si la tasa es > , esta podría sobrepasar y no hacer los ajustes tan finos para llegar a la mejor opción.\n",
        "\n",
        "2.   Función de perdida\n",
        "\n",
        "`mean_squared_error` --> Una cantidad de errores grandes es peor que una gran cantidad de errores pequeños."
      ]
    },
    {
      "cell_type": "code",
      "metadata": {
        "id": "jjXCZz0fLS16"
      },
      "source": [
        "modelo.compile(\n",
        "    optimizer = tf.keras.optimizers.Adam(0.1),\n",
        "    loss = 'mean_squared_error'\n",
        ")"
      ],
      "execution_count": 7,
      "outputs": []
    },
    {
      "cell_type": "markdown",
      "metadata": {
        "id": "jFn0eMTQ9okG"
      },
      "source": [
        "### **Entrenamiento del Modelo de Red Neuronal**\n",
        "\n",
        "Entrenamiento del modelo:"
      ]
    },
    {
      "cell_type": "code",
      "metadata": {
        "colab": {
          "base_uri": "https://localhost:8080/"
        },
        "id": "1JIDvYKuLirZ",
        "outputId": "b45ef8b4-d23f-43b4-dcb3-c5bc6abad3f5"
      },
      "source": [
        "print(\"Comenzando entrenamiento...\")\n",
        "historial = modelo.fit(celsius,fahrenheit, epochs=1000, verbose=False)\n",
        "print(\"modelo entrenado\")"
      ],
      "execution_count": 8,
      "outputs": [
        {
          "output_type": "stream",
          "text": [
            "Comenzando entrenamiento...\n",
            "modelo entrenado\n"
          ],
          "name": "stdout"
        }
      ]
    },
    {
      "cell_type": "markdown",
      "metadata": {
        "id": "MCAtiysi9qkU"
      },
      "source": [
        "### **Analisis del Modelo de Red Neuronal**\n",
        "Analisis del funcionamiento del modelo de Red Neuronal usado."
      ]
    },
    {
      "cell_type": "code",
      "metadata": {
        "colab": {
          "base_uri": "https://localhost:8080/",
          "height": 296
        },
        "id": "qbvoZmXXME3M",
        "outputId": "e30699fe-bb67-41c9-8ba1-454ac77e7f42"
      },
      "source": [
        "import matplotlib.pyplot as plt\n",
        "plt.xlabel(\"# Epoca\")\n",
        "plt.ylabel(\"Magnitud de pérdida\")\n",
        "plt.plot(historial.history[\"loss\"])"
      ],
      "execution_count": 12,
      "outputs": [
        {
          "output_type": "execute_result",
          "data": {
            "text/plain": [
              "[<matplotlib.lines.Line2D at 0x7f4ce0ca28d0>]"
            ]
          },
          "metadata": {
            "tags": []
          },
          "execution_count": 12
        },
        {
          "output_type": "display_data",
          "data": {
            "image/png": "[encoded data removed]",
            "text/plain": [
              "<Figure size 432x288 with 1 Axes>"
            ]
          },
          "metadata": {
            "tags": [],
            "needs_background": "light"
          }
        }
      ]
    },
    {
      "cell_type": "markdown",
      "metadata": {
        "id": "cDXSSRMg9sxd"
      },
      "source": [
        "## **Resultado**\n",
        "\n",
        "Diseño del modelo de Red Neuronal usando:"
      ]
    },
    {
      "cell_type": "code",
      "metadata": {
        "colab": {
          "base_uri": "https://localhost:8080/"
        },
        "id": "8T233tQCNGBv",
        "outputId": "267304e0-7b19-44bf-c315-ebbcb85e3f20"
      },
      "source": [
        "print(\"Hagamos una predicción!\")\n",
        "resultado = modelo.predict([100.0])\n",
        "print(\"El resultado es \" + str(resultado) + \" fahrenheit!\")"
      ],
      "execution_count": 13,
      "outputs": [
        {
          "output_type": "stream",
          "text": [
            "Hagamos una predicción!\n",
            "El resultado es [[211.74242]] fahrenheit!\n"
          ],
          "name": "stdout"
        }
      ]
    },
    {
      "cell_type": "markdown",
      "metadata": {
        "id": "KK3d1VmL9vQs"
      },
      "source": [
        "## **Modelo de Red Neuronal**\n",
        "\n",
        "Diseño del modelo de Red Neuronal usando:"
      ]
    },
    {
      "cell_type": "code",
      "metadata": {
        "colab": {
          "base_uri": "https://localhost:8080/"
        },
        "id": "Xvb3imAVNrxY",
        "outputId": "96c0b883-f990-4e2f-933f-f67838071580"
      },
      "source": [
        "print(\"Variables internas del modelo\")\n",
        "print(capa.get_weights())"
      ],
      "execution_count": 14,
      "outputs": [
        {
          "output_type": "stream",
          "text": [
            "Variables internas del modelo\n",
            "[array([[1.7982535]], dtype=float32), array([31.917067], dtype=float32)]\n"
          ],
          "name": "stdout"
        }
      ]
    }
  ]
}